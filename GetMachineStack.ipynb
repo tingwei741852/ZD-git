{
 "cells": [
  {
   "cell_type": "code",
   "execution_count": 9,
   "metadata": {},
   "outputs": [
    {
     "data": {
      "text/plain": [
       "GetStack (generic function with 1 method)"
      ]
     },
     "execution_count": 9,
     "metadata": {},
     "output_type": "execute_result"
    }
   ],
   "source": [
    "function GetStack(data)\n",
    "    output = Dict()\n",
    "    for i in dict \n",
    "        if !haskey(output, i[\"machine_id\"])\n",
    "            output[i[\"machine_id\"]]=i[\"qty\"]\n",
    "        else\n",
    "            output[i[\"machine_id\"]]+=i[\"qty\"]\n",
    "        end\n",
    "    end\n",
    "    return output\n",
    "end"
   ]
  },
  {
   "cell_type": "code",
   "execution_count": 12,
   "metadata": {},
   "outputs": [
    {
     "name": "stdout",
     "output_type": "stream",
     "text": [
      "Pair{Any, Any}(\"PLA131\", 358)\n",
      "Pair{Any, Any}(\"PLA119\", 1226)\n",
      "Pair{Any, Any}(\"PLA126\", 1674)\n",
      "Pair{Any, Any}(\"PLA141\", 370)\n",
      "Pair{Any, Any}(\"PLA121\", 465)\n",
      "Pair{Any, Any}(\"PLA135\", 446)\n",
      "Pair{Any, Any}(\"PLA112\", 559)\n",
      "Pair{Any, Any}(\"PLA124\", 531)\n",
      "Pair{Any, Any}(\"PLA125\", 1052)\n",
      "Pair{Any, Any}(\"PLA122\", 347)\n",
      "Pair{Any, Any}(\"PLA101\", 375)\n",
      "Pair{Any, Any}(\"PLA137\", 1045)\n",
      "Pair{Any, Any}(\"PLA148\", 747)\n",
      "Pair{Any, Any}(\"PLA150\", 279)\n",
      "Pair{Any, Any}(\"PLA146\", 368)\n",
      "Pair{Any, Any}(\"PLA120\", 911)\n",
      "Pair{Any, Any}(\"PLA107\", 157)\n",
      "Pair{Any, Any}(\"PLA134\", 248)\n",
      "Pair{Any, Any}(\"PLA115\", 1166)\n",
      "Pair{Any, Any}(\"PLA144\", 322)\n",
      "Pair{Any, Any}(\"PLA114\", 720)\n",
      "Pair{Any, Any}(\"PLA113\", 1019)\n",
      "Pair{Any, Any}(\"PLA109\", 1390)\n",
      "Pair{Any, Any}(\"PLA128\", 424)\n",
      "Pair{Any, Any}(\"PLA123\", 1878)\n",
      "Pair{Any, Any}(\"PLA143\", 465)\n",
      "Pair{Any, Any}(\"PLA117\", 1239)\n",
      "Pair{Any, Any}(\"PLA139\", 1124)\n",
      "Pair{Any, Any}(\"PLA149\", 657)\n",
      "Pair{Any, Any}(\"PLA104\", 826)\n",
      "Pair{Any, Any}(\"PLA103\", 889)\n",
      "Pair{Any, Any}(\"PLA118\", 662)\n",
      "Pair{Any, Any}(\"PLA147\", 686)\n",
      "Pair{Any, Any}(\"PLA105\", 1324)\n",
      "Pair{Any, Any}(\"PLA132\", 515)\n",
      "Pair{Any, Any}(\"PLA140\", 1656)\n",
      "Pair{Any, Any}(\"PLA108\", 991)\n",
      "Pair{Any, Any}(\"PLA129\", 476)\n",
      "Pair{Any, Any}(\"PLA136\", 321)\n",
      "Pair{Any, Any}(\"PLA102\", 978)\n",
      "Pair{Any, Any}(\"PLA110\", 218)\n",
      "Pair{Any, Any}(\"PLA133\", 503)\n",
      "Pair{Any, Any}(\"PLA138\", 431)\n",
      "Pair{Any, Any}(\"PLA116\", 1337)\n",
      "Pair{Any, Any}(\"PLA130\", 437)\n",
      "Pair{Any, Any}(\"PLA127\", 730)\n",
      "Pair{Any, Any}(\"PLA106\", 1340)\n",
      "Pair{Any, Any}(\"PLA111\", 1114)\n"
     ]
    }
   ],
   "source": [
    "import JSON\n",
    "\n",
    "\n",
    "function read_json(path)\n",
    "    open(path, \"r\") do f\n",
    "        global dict\n",
    "        dicttxt = read(f,String)  # file information to string\n",
    "        dict=JSON.parse(dicttxt)  # parse and transform data\n",
    "    end\n",
    "\n",
    "    return dict\n",
    "end\n",
    "dict2 = read_json(\"output.json\")\n",
    "stack = GetStack(dict)\n",
    "\n",
    "for a in stack\n",
    "    println(a)\n",
    "end\n"
   ]
  },
  {
   "cell_type": "code",
   "execution_count": 2,
   "metadata": {},
   "outputs": [
    {
     "data": {
      "text/plain": [
       "200-element Vector{Any}:\n",
       " Dict{String, Any}(\"machine_id\" => \"PLA112\", \"qty\" => 250)\n",
       " Dict{String, Any}(\"machine_id\" => \"PLA148\", \"qty\" => 281)\n",
       " Dict{String, Any}(\"machine_id\" => \"PLA118\", \"qty\" => 253)\n",
       " Dict{String, Any}(\"machine_id\" => \"PLA119\", \"qty\" => 155)\n",
       " Dict{String, Any}(\"machine_id\" => \"PLA102\", \"qty\" => 280)\n",
       " Dict{String, Any}(\"machine_id\" => \"PLA120\", \"qty\" => 266)\n",
       " Dict{String, Any}(\"machine_id\" => \"PLA123\", \"qty\" => 270)\n",
       " Dict{String, Any}(\"machine_id\" => \"PLA149\", \"qty\" => 196)\n",
       " Dict{String, Any}(\"machine_id\" => \"PLA123\", \"qty\" => 138)\n",
       " Dict{String, Any}(\"machine_id\" => \"PLA115\", \"qty\" => 273)\n",
       " Dict{String, Any}(\"machine_id\" => \"PLA120\", \"qty\" => 206)\n",
       " Dict{String, Any}(\"machine_id\" => \"PLA108\", \"qty\" => 146)\n",
       " Dict{String, Any}(\"machine_id\" => \"PLA110\", \"qty\" => 107)\n",
       " ⋮\n",
       " Dict{String, Any}(\"machine_id\" => \"PLA125\", \"qty\" => 129)\n",
       " Dict{String, Any}(\"machine_id\" => \"PLA126\", \"qty\" => 154)\n",
       " Dict{String, Any}(\"machine_id\" => \"PLA139\", \"qty\" => 290)\n",
       " Dict{String, Any}(\"machine_id\" => \"PLA102\", \"qty\" => 256)\n",
       " Dict{String, Any}(\"machine_id\" => \"PLA105\", \"qty\" => 207)\n",
       " Dict{String, Any}(\"machine_id\" => \"PLA105\", \"qty\" => 296)\n",
       " Dict{String, Any}(\"machine_id\" => \"PLA114\", \"qty\" => 202)\n",
       " Dict{String, Any}(\"machine_id\" => \"PLA112\", \"qty\" => 127)\n",
       " Dict{String, Any}(\"machine_id\" => \"PLA116\", \"qty\" => 56)\n",
       " Dict{String, Any}(\"machine_id\" => \"PLA109\", \"qty\" => 231)\n",
       " Dict{String, Any}(\"machine_id\" => \"PLA115\", \"qty\" => 233)\n",
       " Dict{String, Any}(\"machine_id\" => \"PLA103\", \"qty\" => 127)"
      ]
     },
     "execution_count": 2,
     "metadata": {},
     "output_type": "execute_result"
    }
   ],
   "source": [
    "open(\"output.json\", \"r\") do f\n",
    "        dicttxt = read(f,String)  # file information to string\n",
    "        dict=JSON.parse(dicttxt)  # parse and transform data\n",
    "end"
   ]
  }
 ],
 "metadata": {
  "kernelspec": {
   "display_name": "Julia 1.6.1",
   "language": "julia",
   "name": "julia-1.6"
  },
  "language_info": {
   "file_extension": ".jl",
   "mimetype": "application/julia",
   "name": "julia",
   "version": "1.6.1"
  }
 },
 "nbformat": 4,
 "nbformat_minor": 4
}
