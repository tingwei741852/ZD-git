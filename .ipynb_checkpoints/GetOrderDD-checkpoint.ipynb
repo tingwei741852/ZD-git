{
 "cells": [
  {
   "cell_type": "code",
   "execution_count": 73,
   "metadata": {},
   "outputs": [
    {
     "data": {
      "text/plain": [
       "GetDD (generic function with 1 method)"
      ]
     },
     "execution_count": 73,
     "metadata": {},
     "output_type": "execute_result"
    }
   ],
   "source": [
    "\n",
    "function GetDD(data)\n",
    "    output = Dict()\n",
    "    for i in dict \n",
    "        if !haskey(output, i[\"Resource\"])\n",
    "            element = Dict()\n",
    "#             element[\"OrderID\"]=i[\"Resource\"]\n",
    "            element[\"Start\"]=i[\"Start\"]\n",
    "            element[\"Finish\"]=i[\"Finish\"]\n",
    "            output[i[\"Resource\"]]=element\n",
    "            \n",
    "        else\n",
    "            if(i[\"Finish\"]>output[i[\"Resource\"]][\"Finish\"])\n",
    "                output[i[\"Resource\"]][\"Finish\"]=i[\"Finish\"]\n",
    "            end\n",
    "            if(i[\"Start\"]<output[i[\"Resource\"]][\"Start\"])\n",
    "                output[i[\"Resource\"]][\"Start\"]=i[\"Start\"]\n",
    "            end\n",
    "        end\n",
    "    end\n",
    "    return output\n",
    "end"
   ]
  },
  {
   "cell_type": "code",
   "execution_count": 75,
   "metadata": {},
   "outputs": [
    {
     "name": "stdout",
     "output_type": "stream",
     "text": [
      "Pair{Any, Any}(\"X000000002\", Dict{Any, Any}(\"Start\" => \"2021-02-26 09:06:40\", \"Finish\" => \"2021-03-02 00:03:20\"))\n",
      "Pair{Any, Any}(\"X000000010\", Dict{Any, Any}(\"Start\" => \"2021-02-26 10:13:20\", \"Finish\" => \"2021-03-02 01:43:20\"))\n",
      "Pair{Any, Any}(\"1001362751\", Dict{Any, Any}(\"Start\" => \"2021-02-26 08:00:00\", \"Finish\" => \"2021-02-27 20:41:40\"))\n",
      "Pair{Any, Any}(\"X000000008\", Dict{Any, Any}(\"Start\" => \"2021-02-26 09:33:20\", \"Finish\" => \"2021-03-02 05:30:00\"))\n",
      "Pair{Any, Any}(\"X000000013\", Dict{Any, Any}(\"Start\" => \"2021-02-26 10:40:00\", \"Finish\" => \"2021-03-02 04:20:00\"))\n",
      "Pair{Any, Any}(\"X000000004\", Dict{Any, Any}(\"Start\" => \"2021-02-26 11:06:40\", \"Finish\" => \"2021-03-02 01:20:00\"))\n",
      "Pair{Any, Any}(\"X000000012\", Dict{Any, Any}(\"Start\" => \"2021-02-26 09:20:00\", \"Finish\" => \"2021-03-02 03:56:40\"))\n",
      "Pair{Any, Any}(\"X000000005\", Dict{Any, Any}(\"Start\" => \"2021-02-26 08:13:20\", \"Finish\" => \"2021-03-02 05:06:40\"))\n",
      "Pair{Any, Any}(\"X000000001\", Dict{Any, Any}(\"Start\" => \"2021-02-26 10:53:20\", \"Finish\" => \"2021-03-02 02:23:20\"))\n",
      "Pair{Any, Any}(\"X000000003\", Dict{Any, Any}(\"Start\" => \"2021-02-26 08:53:20\", \"Finish\" => \"2021-03-02 00:26:40\"))\n",
      "Pair{Any, Any}(\"X000000015\", Dict{Any, Any}(\"Start\" => \"2021-02-26 17:00:00\", \"Finish\" => \"2021-03-02 03:10:00\"))\n",
      "Pair{Any, Any}(\"X000000014\", Dict{Any, Any}(\"Start\" => \"2021-02-26 08:26:40\", \"Finish\" => \"2021-03-01 20:50:00\"))\n",
      "Pair{Any, Any}(\"1001365383\", Dict{Any, Any}(\"Start\" => \"2021-02-26 14:06:00\", \"Finish\" => \"2021-02-28 00:44:00\"))\n",
      "Pair{Any, Any}(\"1001362754\", Dict{Any, Any}(\"Start\" => \"2021-02-26 08:00:00\", \"Finish\" => \"2021-02-28 01:07:20\"))\n",
      "Pair{Any, Any}(\"1001362749\", Dict{Any, Any}(\"Start\" => \"2021-02-26 08:00:00\", \"Finish\" => \"2021-02-28 01:30:20\"))\n",
      "Pair{Any, Any}(\"X000000011\", Dict{Any, Any}(\"Start\" => \"2021-02-26 08:40:00\", \"Finish\" => \"2021-03-02 05:53:20\"))\n",
      "Pair{Any, Any}(\"X000000009\", Dict{Any, Any}(\"Start\" => \"2021-02-26 10:26:40\", \"Finish\" => \"2021-03-02 02:46:40\"))\n",
      "Pair{Any, Any}(\"周保養\", Dict{Any, Any}(\"Start\" => \"2021-02-27 04:00:00\", \"Finish\" => \"2021-02-28 16:00:00\"))\n",
      "Pair{Any, Any}(\"X000000007\", Dict{Any, Any}(\"Start\" => \"2021-02-26 10:00:00\", \"Finish\" => \"2021-03-02 04:43:20\"))\n",
      "Pair{Any, Any}(\"X000000016\", Dict{Any, Any}(\"Start\" => \"2021-02-26 09:46:40\", \"Finish\" => \"2021-03-02 03:33:20\"))\n",
      "Pair{Any, Any}(\"1001365392\", Dict{Any, Any}(\"Start\" => \"2021-02-26 10:25:20\", \"Finish\" => \"2021-02-28 01:53:40\"))\n",
      "Pair{Any, Any}(\"X000000006\", Dict{Any, Any}(\"Start\" => \"2021-02-26 08:00:00\", \"Finish\" => \"2021-03-02 00:56:40\"))\n",
      "Pair{Any, Any}(\"1001307549\", Dict{Any, Any}(\"Start\" => \"2021-02-26 09:48:40\", \"Finish\" => \"2021-02-28 02:17:00\"))\n",
      "Pair{Any, Any}(\"1001365382\", Dict{Any, Any}(\"Start\" => \"2021-02-26 23:12:00\", \"Finish\" => \"2021-02-28 06:19:00\"))\n"
     ]
    }
   ],
   "source": [
    "import JSON\n",
    "\n",
    "\n",
    "function read_json(path)\n",
    "    open(path, \"r\") do f\n",
    "        dicttxt = read(f,String)  # file information to string\n",
    "        dict=JSON.parse(dicttxt)  # parse and transform data\n",
    "    end\n",
    "\n",
    "    return dict\n",
    "end\n",
    "dict = read_json(\"data.json\");\n",
    "dd = GetDD(dict)\n",
    "\n",
    "for a in dd\n",
    "    println(a)\n",
    "end\n",
    "\n",
    "\n"
   ]
  },
  {
   "cell_type": "code",
   "execution_count": 31,
   "metadata": {},
   "outputs": [
    {
     "data": {
      "text/plain": [
       "6000-element Vector{Any}:\n",
       " Dict{String, Any}(\"Start\" => \"2021-02-26 08:00:00\", \"Task\" => \"A58-mc1\", \"Resource\" => \"1001362754\", \"Finish\" => \"2021-02-26 08:13:20\")\n",
       " Dict{String, Any}(\"Start\" => \"2021-02-26 08:00:00\", \"Task\" => \"A82-mc2\", \"Resource\" => \"1001362751\", \"Finish\" => \"2021-02-26 12:02:40\")\n",
       " Dict{String, Any}(\"Start\" => \"2021-02-26 08:00:00\", \"Task\" => \"A00-mc1\", \"Resource\" => \"X000000006\", \"Finish\" => \"2021-02-26 08:13:20\")\n",
       " Dict{String, Any}(\"Start\" => \"2021-02-26 08:00:00\", \"Task\" => \"A00-mc4\", \"Resource\" => \"X000000006\", \"Finish\" => \"2021-02-26 08:13:20\")\n",
       " Dict{String, Any}(\"Start\" => \"2021-02-26 08:00:00\", \"Task\" => \"A58-mc2\", \"Resource\" => \"1001362754\", \"Finish\" => \"2021-02-26 08:13:20\")\n",
       " Dict{String, Any}(\"Start\" => \"2021-02-26 08:00:00\", \"Task\" => \"A29-mc1\", \"Resource\" => \"1001362749\", \"Finish\" => \"2021-02-26 08:23:00\")\n",
       " Dict{String, Any}(\"Start\" => \"2021-02-26 08:00:00\", \"Task\" => \"A00-mc2\", \"Resource\" => \"X000000006\", \"Finish\" => \"2021-02-26 08:13:20\")\n",
       " Dict{String, Any}(\"Start\" => \"2021-02-26 08:00:00\", \"Task\" => \"A29-mc2\", \"Resource\" => \"1001362749\", \"Finish\" => \"2021-02-26 08:23:00\")\n",
       " Dict{String, Any}(\"Start\" => \"2021-02-26 08:00:00\", \"Task\" => \"A58-mc4\", \"Resource\" => \"1001362754\", \"Finish\" => \"2021-02-26 08:13:20\")\n",
       " Dict{String, Any}(\"Start\" => \"2021-02-26 08:00:00\", \"Task\" => \"A82-mc1\", \"Resource\" => \"1001362751\", \"Finish\" => \"2021-02-26 12:03:00\")\n",
       " Dict{String, Any}(\"Start\" => \"2021-02-26 08:00:00\", \"Task\" => \"A58-mc3\", \"Resource\" => \"1001362754\", \"Finish\" => \"2021-02-26 08:13:20\")\n",
       " Dict{String, Any}(\"Start\" => \"2021-02-26 08:00:00\", \"Task\" => \"A00-mc3\", \"Resource\" => \"X000000006\", \"Finish\" => \"2021-02-26 08:13:20\")\n",
       " Dict{String, Any}(\"Start\" => \"2021-02-26 08:13:20\", \"Task\" => \"A00-mc1\", \"Resource\" => \"X000000005\", \"Finish\" => \"2021-02-26 08:26:40\")\n",
       " ⋮\n",
       " Dict{String, Any}(\"Start\" => \"2021-03-02 03:56:40\", \"Task\" => \"Z99-mc2\", \"Resource\" => \"X000000013\", \"Finish\" => \"2021-03-02 04:20:00\")\n",
       " Dict{String, Any}(\"Start\" => \"2021-03-02 03:56:40\", \"Task\" => \"A94-mc4\", \"Resource\" => \"X000000007\", \"Finish\" => \"2021-03-02 04:10:00\")\n",
       " Dict{String, Any}(\"Start\" => \"2021-03-02 03:56:40\", \"Task\" => \"A94-mc1\", \"Resource\" => \"X000000007\", \"Finish\" => \"2021-03-02 04:10:00\")\n",
       " Dict{String, Any}(\"Start\" => \"2021-03-02 03:56:40\", \"Task\" => \"A94-mc2\", \"Resource\" => \"X000000007\", \"Finish\" => \"2021-03-02 04:10:00\")\n",
       " Dict{String, Any}(\"Start\" => \"2021-03-02 04:20:00\", \"Task\" => \"Z99-mc1\", \"Resource\" => \"X000000007\", \"Finish\" => \"2021-03-02 04:43:20\")\n",
       " Dict{String, Any}(\"Start\" => \"2021-03-02 04:20:00\", \"Task\" => \"Z99-mc2\", \"Resource\" => \"X000000007\", \"Finish\" => \"2021-03-02 04:43:20\")\n",
       " Dict{String, Any}(\"Start\" => \"2021-03-02 04:43:20\", \"Task\" => \"Z99-mc1\", \"Resource\" => \"X000000005\", \"Finish\" => \"2021-03-02 05:06:40\")\n",
       " Dict{String, Any}(\"Start\" => \"2021-03-02 04:43:20\", \"Task\" => \"Z99-mc2\", \"Resource\" => \"X000000005\", \"Finish\" => \"2021-03-02 05:06:40\")\n",
       " Dict{String, Any}(\"Start\" => \"2021-03-02 05:06:40\", \"Task\" => \"Z99-mc1\", \"Resource\" => \"X000000008\", \"Finish\" => \"2021-03-02 05:30:00\")\n",
       " Dict{String, Any}(\"Start\" => \"2021-03-02 05:06:40\", \"Task\" => \"Z99-mc2\", \"Resource\" => \"X000000008\", \"Finish\" => \"2021-03-02 05:30:00\")\n",
       " Dict{String, Any}(\"Start\" => \"2021-03-02 05:30:00\", \"Task\" => \"Z99-mc1\", \"Resource\" => \"X000000011\", \"Finish\" => \"2021-03-02 05:53:20\")\n",
       " Dict{String, Any}(\"Start\" => \"2021-03-02 05:30:00\", \"Task\" => \"Z99-mc2\", \"Resource\" => \"X000000011\", \"Finish\" => \"2021-03-02 05:53:20\")"
      ]
     },
     "execution_count": 31,
     "metadata": {},
     "output_type": "execute_result"
    }
   ],
   "source": [
    "dict"
   ]
  },
  {
   "cell_type": "code",
   "execution_count": null,
   "metadata": {},
   "outputs": [],
   "source": []
  }
 ],
 "metadata": {
  "kernelspec": {
   "display_name": "Julia 1.6.1",
   "language": "julia",
   "name": "julia-1.6"
  },
  "language_info": {
   "file_extension": ".jl",
   "mimetype": "application/julia",
   "name": "julia",
   "version": "1.6.1"
  }
 },
 "nbformat": 4,
 "nbformat_minor": 4
}
