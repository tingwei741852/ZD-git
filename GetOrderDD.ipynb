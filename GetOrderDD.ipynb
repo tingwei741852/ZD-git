{
 "cells": [
  {
   "cell_type": "code",
   "execution_count": 73,
   "metadata": {},
   "outputs": [
    {
     "data": {
      "text/plain": [
       "GetDD (generic function with 1 method)"
      ]
     },
     "execution_count": 73,
     "metadata": {},
     "output_type": "execute_result"
    }
   ],
   "source": [
    "\n",
    "function GetDD(data)\n",
    "    output = Dict()\n",
    "    for i in dict \n",
    "        if !haskey(output, i[\"Resource\"])\n",
    "            element = Dict()\n",
    "#             element[\"OrderID\"]=i[\"Resource\"]\n",
    "            element[\"Start\"]=i[\"Start\"]\n",
    "            element[\"Finish\"]=i[\"Finish\"]\n",
    "            output[i[\"Resource\"]]=element\n",
    "            \n",
    "        else\n",
    "            if(i[\"Finish\"]>output[i[\"Resource\"]][\"Finish\"])\n",
    "                output[i[\"Resource\"]][\"Finish\"]=i[\"Finish\"]\n",
    "            end\n",
    "            if(i[\"Start\"]<output[i[\"Resource\"]][\"Start\"])\n",
    "                output[i[\"Resource\"]][\"Start\"]=i[\"Start\"]\n",
    "            end\n",
    "        end\n",
    "    end\n",
    "    return output\n",
    "end"
   ]
  },
  {
   "cell_type": "code",
   "execution_count": 1,
   "metadata": {},
   "outputs": [
    {
     "ename": "LoadError",
     "evalue": "UndefVarError: dict not defined",
     "output_type": "error",
     "traceback": [
      "UndefVarError: dict not defined",
      "",
      "Stacktrace:",
      " [1] read_json(path::String)",
      "   @ Main .\\In[1]:10",
      " [2] top-level scope",
      "   @ In[1]:12",
      " [3] eval",
      "   @ .\\boot.jl:360 [inlined]",
      " [4] include_string(mapexpr::typeof(REPL.softscope), mod::Module, code::String, filename::String)",
      "   @ Base .\\loading.jl:1094"
     ]
    }
   ],
   "source": [
    "import JSON\n",
    "\n",
    "\n",
    "function read_json(path)\n",
    "    open(path, \"r\") do f\n",
    "        dicttxt = read(f,String)  # file information to string\n",
    "        dict=JSON.parse(dicttxt)  # parse and transform data\n",
    "    end\n",
    "\n",
    "    return dict\n",
    "end\n",
    "dict = read_json(\"data.json\");\n",
    "# dd = GetDD(dict)\n",
    "\n",
    "# for a in dd\n",
    "#     println(a)\n",
    "# end\n",
    "\n",
    "\n"
   ]
  },
  {
   "cell_type": "code",
   "execution_count": 1,
   "metadata": {},
   "outputs": [
    {
     "ename": "LoadError",
     "evalue": "UndefVarError: dict not defined",
     "output_type": "error",
     "traceback": [
      "UndefVarError: dict not defined",
      "",
      "Stacktrace:",
      " [1] top-level scope",
      "   @ :0",
      " [2] eval",
      "   @ .\\boot.jl:360 [inlined]",
      " [3] include_string(mapexpr::typeof(REPL.softscope), mod::Module, code::String, filename::String)",
      "   @ Base .\\loading.jl:1094"
     ]
    }
   ],
   "source": [
    "dict"
   ]
  },
  {
   "cell_type": "code",
   "execution_count": null,
   "metadata": {},
   "outputs": [],
   "source": []
  }
 ],
 "metadata": {
  "kernelspec": {
   "display_name": "Julia 1.6.1",
   "language": "julia",
   "name": "julia-1.6"
  },
  "language_info": {
   "file_extension": ".jl",
   "mimetype": "application/julia",
   "name": "julia",
   "version": "1.6.1"
  }
 },
 "nbformat": 4,
 "nbformat_minor": 4
}
